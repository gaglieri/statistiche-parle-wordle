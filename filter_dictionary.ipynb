{
 "cells": [
  {
   "cell_type": "code",
   "execution_count": 17,
   "id": "3eddb0c0",
   "metadata": {},
   "outputs": [],
   "source": [
    "dictionary_path = \"./resources/ITALIANO_CINQUE_LETTERE\"\n",
    "dictionary_csv_path = \"./resources/ITALIANO_CINQUE_LETTERE.csv\""
   ]
  },
  {
   "cell_type": "code",
   "execution_count": 19,
   "id": "69ad369b",
   "metadata": {},
   "outputs": [],
   "source": [
    "with open(dictionary_path) as f:\n",
    "    lines = f.readlines()\n",
    "    \n",
    "with open(dictionary_csv_path, 'w') as out_file:\n",
    "    for line in lines:\n",
    "        print(f\"{line.strip()},{line[0]},{line[1]},{line[2]},{line[3]},{line[4]}\", file=out_file)"
   ]
  },
  {
   "cell_type": "code",
   "execution_count": null,
   "id": "b81819e1",
   "metadata": {},
   "outputs": [],
   "source": []
  },
  {
   "cell_type": "code",
   "execution_count": null,
   "id": "88685986",
   "metadata": {},
   "outputs": [],
   "source": []
  }
 ],
 "metadata": {
  "kernelspec": {
   "display_name": "Python 3 (ipykernel)",
   "language": "python",
   "name": "python3"
  },
  "language_info": {
   "codemirror_mode": {
    "name": "ipython",
    "version": 3
   },
   "file_extension": ".py",
   "mimetype": "text/x-python",
   "name": "python",
   "nbconvert_exporter": "python",
   "pygments_lexer": "ipython3",
   "version": "3.9.7"
  }
 },
 "nbformat": 4,
 "nbformat_minor": 5
}
